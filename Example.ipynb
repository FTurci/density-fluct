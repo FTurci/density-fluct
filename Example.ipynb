{
 "cells": [
  {
   "cell_type": "markdown",
   "metadata": {},
   "source": [
    "# Analysing density maps"
   ]
  },
  {
   "cell_type": "markdown",
   "metadata": {},
   "source": [
    "Make sure that that essential packages are installed  "
   ]
  },
  {
   "cell_type": "code",
   "execution_count": null,
   "metadata": {},
   "outputs": [],
   "source": [
    "! pip install ovito\n",
    "! pip install h5py\n",
    "! pip install natsort"
   ]
  },
  {
   "cell_type": "markdown",
   "metadata": {},
   "source": [
    "Create an output folder"
   ]
  },
  {
   "cell_type": "code",
   "execution_count": null,
   "metadata": {},
   "outputs": [],
   "source": [
    "! mkdir output"
   ]
  },
  {
   "cell_type": "markdown",
   "metadata": {},
   "source": [
    "Run the command line tool on the trajectory file and output folder. Save to hdf5."
   ]
  },
  {
   "cell_type": "code",
   "execution_count": null,
   "metadata": {},
   "outputs": [],
   "source": [
    "! python densityField.py HISTORY.000 output "
   ]
  },
  {
   "cell_type": "code",
   "execution_count": null,
   "metadata": {},
   "outputs": [],
   "source": [
    "! ls output"
   ]
  },
  {
   "cell_type": "markdown",
   "metadata": {},
   "source": [
    "You can read the output easily with `h5py`"
   ]
  },
  {
   "cell_type": "code",
   "execution_count": null,
   "metadata": {},
   "outputs": [],
   "source": [
    "import h5py\n",
    "\n",
    "h5 = h5py.File(\"output/hist-data-dl1.0.h5\")\n",
    "h5.keys()\n"
   ]
  },
  {
   "cell_type": "markdown",
   "metadata": {},
   "source": [
    "A single frame is a 3d array"
   ]
  },
  {
   "cell_type": "code",
   "execution_count": null,
   "metadata": {},
   "outputs": [],
   "source": [
    "h5[\"frame_0\"].shape\n"
   ]
  },
  {
   "cell_type": "markdown",
   "metadata": {},
   "source": [
    "## Options\n",
    "\n",
    "### Changing binsize\n",
    "\n",
    "To change binsize, use the `--dl` option. Its default value is `1`"
   ]
  },
  {
   "cell_type": "code",
   "execution_count": null,
   "metadata": {},
   "outputs": [],
   "source": [
    "! python densityField.py HISTORY.000 output --dl 0.5"
   ]
  },
  {
   "cell_type": "markdown",
   "metadata": {},
   "source": [
    "### Selecting particle type\n",
    "\n",
    "To select the particle type to bin, use the `--selection` option."
   ]
  },
  {
   "cell_type": "code",
   "execution_count": null,
   "metadata": {},
   "outputs": [],
   "source": [
    "! mkdir outputOW\n",
    "! python densityField.py HISTORY.000 outputOW --dl 2.5 --selection OW"
   ]
  },
  {
   "cell_type": "markdown",
   "metadata": {},
   "source": [
    "### Plotting 2d snapshots \n",
    "\n",
    "Average maps at every time can be stored with the `--map2d` option, indicating the axis for the averaging `0,1,2`"
   ]
  },
  {
   "cell_type": "code",
   "execution_count": null,
   "metadata": {},
   "outputs": [],
   "source": [
    "! python densityField.py HISTORY.000 outputOW --dl 0.5 --selection OW --map2d 0"
   ]
  },
  {
   "cell_type": "markdown",
   "metadata": {},
   "source": [
    "## Statistics\n",
    "\n",
    "### Time average\n",
    "\n",
    "We can take the time average and variance of the trajectory by reading all sorted frames and by using `numpy`"
   ]
  },
  {
   "cell_type": "code",
   "execution_count": null,
   "metadata": {},
   "outputs": [],
   "source": [
    "import numpy as np\n",
    "from natsort import realsorted\n",
    "import h5py\n",
    "\n",
    "h5 = h5py.File(\"outputOW/hist-data-dl2.5.h5\")\n",
    "ns = np.array([h5[k] for k in realsorted(h5.keys()) if \"frame\" in k])\n",
    "# averaging along time\n",
    "avg_n = np.mean(ns, axis=0)\n",
    "var_n = np.var(ns, axis=0)\n"
   ]
  },
  {
   "cell_type": "markdown",
   "metadata": {},
   "source": [
    "### Average along a spatial dimension\n",
    "\n",
    "The resulting arrays are averaged using `numpy`\n",
    "\n",
    "For example, the average along the x dimension is done "
   ]
  },
  {
   "cell_type": "code",
   "execution_count": null,
   "metadata": {},
   "outputs": [],
   "source": [
    "n_yz = avg_n.mean(axis=0)\n"
   ]
  },
  {
   "cell_type": "markdown",
   "metadata": {},
   "source": [
    "## Plotting\n",
    "\n",
    "## 2D plots\n",
    "\n",
    "Two-dimensional plots can be produced by `matplotlib`"
   ]
  },
  {
   "cell_type": "code",
   "execution_count": null,
   "metadata": {},
   "outputs": [],
   "source": [
    "%matplotlib notebook\n",
    "import matplotlib.pyplot as plt\n",
    "\n",
    "plt.matshow(n_yz)\n",
    "plt.colorbar()\n"
   ]
  },
  {
   "cell_type": "markdown",
   "metadata": {},
   "source": [
    "## 3D plots\n",
    "\n",
    "A convenient 3D plotter for surfaces is `pyvista`"
   ]
  },
  {
   "cell_type": "code",
   "execution_count": null,
   "metadata": {},
   "outputs": [],
   "source": [
    "pip install 'pyvista[all]' jupyterlab"
   ]
  },
  {
   "cell_type": "code",
   "execution_count": null,
   "metadata": {},
   "outputs": [],
   "source": [
    "import pyvista as pv\n",
    "\n",
    "# create image canvas\n",
    "mesh = pv.ImageData()\n",
    "# create grid for cell data\n",
    "mesh.dimensions = np.array(avg_n.shape)\n",
    "# assign numpy array to point data\n",
    "mesh.point_data[\"values\"] = avg_n.flatten(order=\"F\")\n",
    "# plot orthogonal projections\n",
    "slices = mesh.slice_orthogonal()\n",
    "dargs = dict(cmap=\"gist_ncar_r\")\n",
    "\n",
    "p = pv.Plotter()\n",
    "p.add_mesh(slices, **dargs)\n",
    "p.show()\n"
   ]
  },
  {
   "cell_type": "markdown",
   "metadata": {},
   "source": [
    "Contours are also possible."
   ]
  },
  {
   "cell_type": "code",
   "execution_count": null,
   "metadata": {},
   "outputs": [],
   "source": [
    "mesh.contour([0.6]).plot()"
   ]
  }
 ],
 "metadata": {
  "kernelspec": {
   "display_name": "Python 3 (ipykernel)",
   "language": "python",
   "name": "python3"
  },
  "language_info": {
   "codemirror_mode": {
    "name": "ipython",
    "version": 3
   },
   "file_extension": ".py",
   "mimetype": "text/x-python",
   "name": "python",
   "nbconvert_exporter": "python",
   "pygments_lexer": "ipython3",
   "version": "3.9.12"
  }
 },
 "nbformat": 4,
 "nbformat_minor": 2
}
